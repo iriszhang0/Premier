{
 "cells": [
  {
   "cell_type": "code",
   "execution_count": 2,
   "metadata": {},
   "outputs": [],
   "source": [
    "import pandas as pd\n",
    "\n",
    "# Read ICD PROC FILES\n",
    "\n",
    "# Edit the file paths to match the location of the icd procedure files\n",
    "# List of file paths of icd procedure files\n",
    "file_paths = [\n",
    "    \"W:/Premier/extracted_nyu_2021/nyu_20211_paticd_proc.txt\",\n",
    "    \"W:/Premier/extracted_nyu_2021/nyu_20212_paticd_proc.txt\",\n",
    "    \"W:/Premier/extracted_nyu_2021/nyu_20213_paticd_proc.txt\"\n",
    "]\n",
    "\n",
    "# Initialize an empty list to hold dataframes\n",
    "dfs = []\n",
    "\n",
    "# Loop through the file paths and read each file separately\n",
    "for file_path in file_paths:\n",
    "    df = pd.read_csv(file_path, sep=\"|\")\n",
    "    dfs.append(df)\n",
    "\n",
    "# Concatenate the dataframes into one\n",
    "proc = pd.concat(dfs, ignore_index=True)\n",
    "\n",
    "# Free up memory\n",
    "del dfs"
   ]
  },
  {
   "cell_type": "code",
   "execution_count": 4,
   "metadata": {},
   "outputs": [],
   "source": [
    "# mechanical ventilation ICD codes\n",
    "mechanical_ventilation_icd_codes = ['5A1935Z', '5A1945Z', '5A1955Z']\n",
    "\n",
    "# Filter primary and secondary procedures DataFrame for mechanical ventilation procedure codes\n",
    "mechanical_ventilation_primary = proc[(proc['ICD_PRI_SEC'] == 'P') & proc['ICD_CODE'].isin(mechanical_ventilation_icd_codes)]\n",
    "mechanical_ventilation_secondary = proc[(proc['ICD_PRI_SEC'] == 'S') & proc['ICD_CODE'].isin(mechanical_ventilation_icd_codes)]\n",
    "\n",
    "# Concatenate filtered primary and secondary procedures dfs\n",
    "mechanical_ventilation_data = pd.concat([mechanical_ventilation_primary, mechanical_ventilation_secondary])"
   ]
  },
  {
   "cell_type": "code",
   "execution_count": 6,
   "metadata": {},
   "outputs": [],
   "source": [
    "# Select unique patient keys\n",
    "mechanical_ventilation_patients = mechanical_ventilation_data['PAT_KEY'].unique()"
   ]
  },
  {
   "cell_type": "code",
   "execution_count": 7,
   "metadata": {},
   "outputs": [],
   "source": [
    "# Edit the file path to match the location of the full Premier data\n",
    "\n",
    "# Load full Premier {2021 or any years} data\n",
    "full_premier = pd.read_csv(\"nyu_2021_cohort_full_v2.csv\")"
   ]
  },
  {
   "cell_type": "code",
   "execution_count": 8,
   "metadata": {},
   "outputs": [],
   "source": [
    "# Create mechanical ventilation variable. 1 if patient had mechanical ventilation, 0 otherwise\n",
    "full_premier['MECH_VENT'] = full_premier['PAT_KEY'].isin(mechanical_ventilation_patients).astype(int)"
   ]
  },
  {
   "cell_type": "code",
   "execution_count": 9,
   "metadata": {},
   "outputs": [],
   "source": [
    "# export the full premier data with mechanical ventilation variable\n",
    "full_premier.to_csv(\"full_premier_mv_var.csv\", index=False)"
   ]
  },
  {
   "cell_type": "code",
   "execution_count": 11,
   "metadata": {},
   "outputs": [],
   "source": [
    "# filtering data where mechanical_ventilation is 1 to build mechanical ventilation only cohort\n",
    "mechanical_ventilation_cohort = full_premier[full_premier['MECH_VENT'] == 1]"
   ]
  },
  {
   "cell_type": "code",
   "execution_count": 12,
   "metadata": {},
   "outputs": [],
   "source": [
    "# Save the MV dataset to a CSV file\n",
    "mechanical_ventilation_cohort.to_csv('premier_mv_cohort.csv', index=False)"
   ]
  }
 ],
 "metadata": {
  "kernelspec": {
   "display_name": "base",
   "language": "python",
   "name": "python3"
  },
  "language_info": {
   "codemirror_mode": {
    "name": "ipython",
    "version": 3
   },
   "file_extension": ".py",
   "mimetype": "text/x-python",
   "name": "python",
   "nbconvert_exporter": "python",
   "pygments_lexer": "ipython3",
   "version": "3.10.9"
  }
 },
 "nbformat": 4,
 "nbformat_minor": 2
}
